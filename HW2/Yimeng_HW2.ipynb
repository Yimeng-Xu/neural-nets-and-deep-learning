{
 "cells": [
  {
   "cell_type": "markdown",
   "metadata": {},
   "source": [
    "## 1 Autoencoder"
   ]
  },
  {
   "cell_type": "code",
   "execution_count": 28,
   "metadata": {
    "collapsed": true
   },
   "outputs": [],
   "source": [
    "from keras.layers import Input, Dense, Conv2D, MaxPooling2D, UpSampling2D\n",
    "from keras.models import Model\n",
    "from keras import backend as K\n",
    "\n",
    "input_img = Input(shape=(28, 28, 1))  # adapt this if using `channels_first` image data format\n",
    "\n",
    "x = Conv2D(16, (3, 3), activation='relu', padding='same')(input_img)\n",
    "x = MaxPooling2D((2, 2), padding='same')(x)\n",
    "x = Conv2D(8, (3, 3), activation='relu', padding='same')(x)\n",
    "x = MaxPooling2D((2, 2), padding='same')(x)\n",
    "x = Conv2D(8, (3, 3), activation='relu', padding='same')(x)\n",
    "encoded = MaxPooling2D((2, 2), padding='same')(x)\n",
    "\n",
    "# at this point the representation is (4, 4, 8) i.e. 128-dimensional\n",
    "\n",
    "x = Conv2D(8, (3, 3), activation='relu', padding='same')(encoded)\n",
    "x = UpSampling2D((2, 2))(x)\n",
    "x = Conv2D(8, (3, 3), activation='relu', padding='same')(x)\n",
    "x = UpSampling2D((2, 2))(x)\n",
    "x = Conv2D(16, (3, 3), activation='relu')(x)\n",
    "x = UpSampling2D((2, 2))(x)\n",
    "decoded = Conv2D(1, (3, 3), activation='sigmoid', padding='same')(x)\n",
    "\n",
    "autoencoder = Model(input_img, decoded)\n",
    "autoencoder.compile(optimizer='adadelta', loss='binary_crossentropy')"
   ]
  },
  {
   "cell_type": "code",
   "execution_count": 30,
   "metadata": {},
   "outputs": [],
   "source": [
    "from keras.datasets import fashion_mnist\n",
    "import numpy as np\n",
    "\n",
    "(x_train, _), (x_test, _) = fashion_mnist.load_data()\n",
    "\n",
    "x_train = x_train.astype('float32') / 255.\n",
    "x_test = x_test.astype('float32') / 255.\n",
    "x_train = np.reshape(x_train, (len(x_train), 28, 28, 1))  # adapt this if using `channels_first` image data format\n",
    "x_test = np.reshape(x_test, (len(x_test), 28, 28, 1))  # adapt this if using `channels_first` image data format"
   ]
  },
  {
   "cell_type": "code",
   "execution_count": 32,
   "metadata": {},
   "outputs": [
    {
     "name": "stdout",
     "output_type": "stream",
     "text": [
      "Train on 60000 samples, validate on 10000 samples\n",
      "Epoch 1/10\n",
      "60000/60000 [==============================] - 107s 2ms/step - loss: 0.3055 - val_loss: 0.3068\n",
      "Epoch 2/10\n",
      "60000/60000 [==============================] - 105s 2ms/step - loss: 0.3033 - val_loss: 0.3012\n",
      "Epoch 3/10\n",
      "60000/60000 [==============================] - 103s 2ms/step - loss: 0.3016 - val_loss: 0.3007\n",
      "Epoch 4/10\n",
      "60000/60000 [==============================] - 112s 2ms/step - loss: 0.3000 - val_loss: 0.3027\n",
      "Epoch 5/10\n",
      "60000/60000 [==============================] - 107s 2ms/step - loss: 0.2985 - val_loss: 0.2996\n",
      "Epoch 6/10\n",
      "60000/60000 [==============================] - 106s 2ms/step - loss: 0.2974 - val_loss: 0.2966\n",
      "Epoch 7/10\n",
      "60000/60000 [==============================] - 107s 2ms/step - loss: 0.2959 - val_loss: 0.2996\n",
      "Epoch 8/10\n",
      "60000/60000 [==============================] - 107s 2ms/step - loss: 0.2950 - val_loss: 0.2950\n",
      "Epoch 9/10\n",
      "60000/60000 [==============================] - 106s 2ms/step - loss: 0.2945 - val_loss: 0.2938\n",
      "Epoch 10/10\n",
      "60000/60000 [==============================] - 109s 2ms/step - loss: 0.2938 - val_loss: 0.2960\n"
     ]
    },
    {
     "data": {
      "text/plain": [
       "<keras.callbacks.History at 0x1c65d80b70>"
      ]
     },
     "execution_count": 32,
     "metadata": {},
     "output_type": "execute_result"
    }
   ],
   "source": [
    "from keras.callbacks import TensorBoard\n",
    "\n",
    "autoencoder.fit(x_train, x_train,\n",
    "                epochs=10,\n",
    "                batch_size=128,\n",
    "                shuffle=True,\n",
    "                validation_data=(x_test, x_test),\n",
    "                callbacks=[TensorBoard(log_dir='/tmp/autoencoder')])"
   ]
  },
  {
   "cell_type": "code",
   "execution_count": 38,
   "metadata": {},
   "outputs": [
    {
     "data": {
      "text/plain": [
       "<Figure size 1440x288 with 0 Axes>"
      ]
     },
     "metadata": {},
     "output_type": "display_data"
    },
    {
     "data": {
      "image/png": "[encoded data removed]",
      "text/plain": [
       "<Figure size 1440x288 with 20 Axes>"
      ]
     },
     "metadata": {},
     "output_type": "display_data"
    }
   ],
   "source": [
    "decoded_imgs = autoencoder.predict(x_test)\n",
    "\n",
    "n = 10\n",
    "plt.figure(figsize=(20, 4))\n",
    "for i in range(n):\n",
    "    # display original\n",
    "    ax = plt.subplot(2, n, i + 1)\n",
    "    plt.imshow(x_test[i].reshape(28, 28))\n",
    "    plt.gray()\n",
    "    ax.get_xaxis().set_visible(False)\n",
    "    ax.get_yaxis().set_visible(False)\n",
    "\n",
    "    # display reconstruction\n",
    "    ax = plt.subplot(2, n, i + 1 + n)\n",
    "    plt.imshow(decoded_imgs[i].reshape(28, 28))\n",
    "    plt.gray()\n",
    "    ax.get_xaxis().set_visible(False)\n",
    "    ax.get_yaxis().set_visible(False)\n",
    "plt.show()"
   ]
  },
  {
   "cell_type": "markdown",
   "metadata": {},
   "source": [
    "## 2 Image Classification\n",
    "### 2.1 Deep CNN"
   ]
  },
  {
   "cell_type": "markdown",
   "metadata": {},
   "source": [
    "Build a deep CNN with 3 hidden layers: two 2D convolution layers, each followed by a 2 $\\times$ 2 maxpooling layer and a 0.3 dropout regularization operation, and a dense layer. The two convolution layers' output is passed to a flatten layer, the dense layer with 64 units, a 0.5 dropout regularization and finally to a softmax output layer that predicts 10 categories. The two 2D convolution layers both have 3 $\\times$ 3 kernels with a stride of 1. No padding is used."
   ]
  },
  {
   "cell_type": "code",
   "execution_count": 21,
   "metadata": {},
   "outputs": [],
   "source": [
    "import numpy as np\n",
    "import keras\n",
    "from keras import layers\n",
    "from keras import models\n",
    "from keras.utils import to_categorical\n",
    "from sklearn.metrics import accuracy_score"
   ]
  },
  {
   "cell_type": "code",
   "execution_count": 78,
   "metadata": {},
   "outputs": [],
   "source": [
    "fashion_mnist = keras.datasets.fashion_mnist\n",
    "(train_images, train_labels), (test_images, test_labels) = fashion_mnist.load_data()"
   ]
  },
  {
   "cell_type": "code",
   "execution_count": 82,
   "metadata": {},
   "outputs": [],
   "source": [
    "train_images = train_images.reshape((60000, 28, 28, 1))\n",
    "train_images = train_images.astype('float32') / 255\n",
    "test_images = test_images.reshape((10000, 28, 28, 1))\n",
    "test_images = test_images.astype('float32') / 255\n",
    "train_labels = to_categorical(train_labels)\n",
    "test_labels = to_categorical(test_labels)"
   ]
  },
  {
   "cell_type": "code",
   "execution_count": 41,
   "metadata": {},
   "outputs": [],
   "source": [
    "model = models.Sequential()\n",
    "model.add(layers.Conv2D(64, (3, 3), activation='relu', input_shape=(28, 28, 1))) \n",
    "model.add(layers.MaxPooling2D((2, 2)))\n",
    "model.add(layers.Dropout(0.3))\n",
    "model.add(layers.Conv2D(32, (3, 3), activation='relu'))\n",
    "model.add(layers.MaxPooling2D((2, 2)))\n",
    "model.add(layers.Dropout(0.3))"
   ]
  },
  {
   "cell_type": "code",
   "execution_count": 42,
   "metadata": {},
   "outputs": [
    {
     "name": "stdout",
     "output_type": "stream",
     "text": [
      "_________________________________________________________________\n",
      "Layer (type)                 Output Shape              Param #   \n",
      "=================================================================\n",
      "conv2d_9 (Conv2D)            (None, 26, 26, 64)        640       \n",
      "_________________________________________________________________\n",
      "max_pooling2d_8 (MaxPooling2 (None, 13, 13, 64)        0         \n",
      "_________________________________________________________________\n",
      "dropout_6 (Dropout)          (None, 13, 13, 64)        0         \n",
      "_________________________________________________________________\n",
      "conv2d_10 (Conv2D)           (None, 11, 11, 32)        18464     \n",
      "_________________________________________________________________\n",
      "max_pooling2d_9 (MaxPooling2 (None, 5, 5, 32)          0         \n",
      "_________________________________________________________________\n",
      "dropout_7 (Dropout)          (None, 5, 5, 32)          0         \n",
      "_________________________________________________________________\n",
      "flatten_6 (Flatten)          (None, 800)               0         \n",
      "_________________________________________________________________\n",
      "dense_5 (Dense)              (None, 64)                51264     \n",
      "_________________________________________________________________\n",
      "dropout_8 (Dropout)          (None, 64)                0         \n",
      "_________________________________________________________________\n",
      "dense_6 (Dense)              (None, 10)                650       \n",
      "=================================================================\n",
      "Total params: 71,018\n",
      "Trainable params: 71,018\n",
      "Non-trainable params: 0\n",
      "_________________________________________________________________\n"
     ]
    }
   ],
   "source": [
    "model.add(layers.Flatten())\n",
    "model.add(layers.Dense(64, activation='relu'))\n",
    "model.add(layers.Dropout(0.5))\n",
    "model.add(layers.Dense(10, activation='softmax'))\n",
    "model.summary()"
   ]
  },
  {
   "cell_type": "code",
   "execution_count": 43,
   "metadata": {},
   "outputs": [
    {
     "name": "stdout",
     "output_type": "stream",
     "text": [
      "Epoch 1/5\n",
      "60000/60000 [==============================] - 49s 823us/step - loss: 0.7422 - acc: 0.7326\n",
      "Epoch 2/5\n",
      "60000/60000 [==============================] - 48s 798us/step - loss: 0.4998 - acc: 0.8222\n",
      "Epoch 3/5\n",
      "60000/60000 [==============================] - 48s 803us/step - loss: 0.4453 - acc: 0.8421\n",
      "Epoch 4/5\n",
      "60000/60000 [==============================] - 50s 830us/step - loss: 0.4166 - acc: 0.8547\n",
      "Epoch 5/5\n",
      "60000/60000 [==============================] - 48s 803us/step - loss: 0.4004 - acc: 0.86160s - loss: 0.4004 - acc: 0.861\n"
     ]
    },
    {
     "data": {
      "text/plain": [
       "<keras.callbacks.History at 0x1a59edbef0>"
      ]
     },
     "execution_count": 43,
     "metadata": {},
     "output_type": "execute_result"
    }
   ],
   "source": [
    "model.compile(optimizer='rmsprop',\n",
    "              loss='categorical_crossentropy',\n",
    "              metrics=['accuracy'])\n",
    "model.fit(train_images, train_labels, epochs=5, batch_size=64)"
   ]
  },
  {
   "cell_type": "code",
   "execution_count": 46,
   "metadata": {},
   "outputs": [
    {
     "name": "stdout",
     "output_type": "stream",
     "text": [
      "The model's accuracy score on training set:\n",
      "\n",
      "0.8922833333333333\n",
      "The model's accuracy score on test set:\n",
      "\n",
      "0.8829\n"
     ]
    }
   ],
   "source": [
    "print(\"The model's accuracy score on training set:\\n\")\n",
    "score_train = model.evaluate(train_images, train_labels, verbose=0)\n",
    "print(score_train[1])\n",
    "print(\"The model's accuracy score on test set:\\n\")\n",
    "score_test = model.evaluate(test_images, test_labels, verbose=0)\n",
    "print(score_test[1])"
   ]
  },
  {
   "cell_type": "markdown",
   "metadata": {},
   "source": [
    "### 2.2 Transfer Learning"
   ]
  },
  {
   "cell_type": "code",
   "execution_count": 79,
   "metadata": {},
   "outputs": [],
   "source": [
    "from keras.applications import VGG16"
   ]
  },
  {
   "cell_type": "code",
   "execution_count": 80,
   "metadata": {},
   "outputs": [
    {
     "name": "stdout",
     "output_type": "stream",
     "text": [
      "_________________________________________________________________\n",
      "Layer (type)                 Output Shape              Param #   \n",
      "=================================================================\n",
      "input_5 (InputLayer)         (None, 48, 48, 3)         0         \n",
      "_________________________________________________________________\n",
      "block1_conv1 (Conv2D)        (None, 48, 48, 64)        1792      \n",
      "_________________________________________________________________\n",
      "block1_conv2 (Conv2D)        (None, 48, 48, 64)        36928     \n",
      "_________________________________________________________________\n",
      "block1_pool (MaxPooling2D)   (None, 24, 24, 64)        0         \n",
      "_________________________________________________________________\n",
      "block2_conv1 (Conv2D)        (None, 24, 24, 128)       73856     \n",
      "_________________________________________________________________\n",
      "block2_conv2 (Conv2D)        (None, 24, 24, 128)       147584    \n",
      "_________________________________________________________________\n",
      "block2_pool (MaxPooling2D)   (None, 12, 12, 128)       0         \n",
      "_________________________________________________________________\n",
      "block3_conv1 (Conv2D)        (None, 12, 12, 256)       295168    \n",
      "_________________________________________________________________\n",
      "block3_conv2 (Conv2D)        (None, 12, 12, 256)       590080    \n",
      "_________________________________________________________________\n",
      "block3_conv3 (Conv2D)        (None, 12, 12, 256)       590080    \n",
      "_________________________________________________________________\n",
      "block3_pool (MaxPooling2D)   (None, 6, 6, 256)         0         \n",
      "_________________________________________________________________\n",
      "block4_conv1 (Conv2D)        (None, 6, 6, 512)         1180160   \n",
      "_________________________________________________________________\n",
      "block4_conv2 (Conv2D)        (None, 6, 6, 512)         2359808   \n",
      "_________________________________________________________________\n",
      "block4_conv3 (Conv2D)        (None, 6, 6, 512)         2359808   \n",
      "_________________________________________________________________\n",
      "block4_pool (MaxPooling2D)   (None, 3, 3, 512)         0         \n",
      "_________________________________________________________________\n",
      "block5_conv1 (Conv2D)        (None, 3, 3, 512)         2359808   \n",
      "_________________________________________________________________\n",
      "block5_conv2 (Conv2D)        (None, 3, 3, 512)         2359808   \n",
      "_________________________________________________________________\n",
      "block5_conv3 (Conv2D)        (None, 3, 3, 512)         2359808   \n",
      "_________________________________________________________________\n",
      "block5_pool (MaxPooling2D)   (None, 1, 1, 512)         0         \n",
      "=================================================================\n",
      "Total params: 14,714,688\n",
      "Trainable params: 14,714,688\n",
      "Non-trainable params: 0\n",
      "_________________________________________________________________\n"
     ]
    }
   ],
   "source": [
    "conv_base = VGG16(weights = 'imagenet', include_top = False, input_shape = (48,48,3))\n",
    "conv_base.summary()"
   ]
  },
  {
   "cell_type": "code",
   "execution_count": 81,
   "metadata": {},
   "outputs": [
    {
     "name": "stdout",
     "output_type": "stream",
     "text": [
      "This is the number of trainable weights before freezing the conv base: 30\n",
      "This is the number of trainable weights after freezing the conv base: 4\n"
     ]
    }
   ],
   "source": [
    "model = models.Sequential()\n",
    "model.add(conv_base)\n",
    "model.add(layers.Flatten())\n",
    "model.add(layers.Dense(64, activation='relu'))\n",
    "model.add(layers.Dropout(0.5))\n",
    "model.add(layers.Dense(10, activation='softmax'))\n",
    "\n",
    "# Freeze the convolutional base\n",
    "print('This is the number of trainable weights before freezing the conv base:', len(model.trainable_weights))\n",
    "conv_base.trainable = False\n",
    "print('This is the number of trainable weights after freezing the conv base:', len(model.trainable_weights))"
   ]
  },
  {
   "cell_type": "code",
   "execution_count": 85,
   "metadata": {},
   "outputs": [
    {
     "name": "stdout",
     "output_type": "stream",
     "text": [
      "_________________________________________________________________\n",
      "Layer (type)                 Output Shape              Param #   \n",
      "=================================================================\n",
      "vgg16 (Model)                (None, 1, 1, 512)         14714688  \n",
      "_________________________________________________________________\n",
      "flatten_13 (Flatten)         (None, 512)               0         \n",
      "_________________________________________________________________\n",
      "dense_25 (Dense)             (None, 64)                32832     \n",
      "_________________________________________________________________\n",
      "dropout_13 (Dropout)         (None, 64)                0         \n",
      "_________________________________________________________________\n",
      "dense_26 (Dense)             (None, 10)                650       \n",
      "=================================================================\n",
      "Total params: 14,748,170\n",
      "Trainable params: 33,482\n",
      "Non-trainable params: 14,714,688\n",
      "_________________________________________________________________\n"
     ]
    }
   ],
   "source": [
    "model.summary()"
   ]
  },
  {
   "cell_type": "code",
   "execution_count": 83,
   "metadata": {},
   "outputs": [
    {
     "data": {
      "text/plain": [
       "(60000, 48, 48, 3)"
      ]
     },
     "execution_count": 83,
     "metadata": {},
     "output_type": "execute_result"
    }
   ],
   "source": [
    "train_images = np.array(list(map(lambda x: np.resize(x, (48,48,3)), train_images)))\n",
    "train_images.shape\n",
    "#train_images = np.array(list(map(lambda x: np.resize(x, (48,48,3)), t_images)))"
   ]
  },
  {
   "cell_type": "code",
   "execution_count": 86,
   "metadata": {},
   "outputs": [
    {
     "name": "stdout",
     "output_type": "stream",
     "text": [
      "Epoch 1/5\n",
      "60000/60000 [==============================] - 1007s 17ms/step - loss: 1.0598 - acc: 0.6240\n",
      "Epoch 2/5\n",
      "60000/60000 [==============================] - 1001s 17ms/step - loss: 0.8715 - acc: 0.6908\n",
      "Epoch 3/5\n",
      "60000/60000 [==============================] - 1001s 17ms/step - loss: 0.8266 - acc: 0.7082\n",
      "Epoch 4/5\n",
      "60000/60000 [==============================] - 1001s 17ms/step - loss: 0.7985 - acc: 0.7198\n",
      "Epoch 5/5\n",
      "60000/60000 [==============================] - 1001s 17ms/step - loss: 0.7833 - acc: 0.7254\n"
     ]
    },
    {
     "data": {
      "text/plain": [
       "<keras.callbacks.History at 0x184636d8d0>"
      ]
     },
     "execution_count": 86,
     "metadata": {},
     "output_type": "execute_result"
    }
   ],
   "source": [
    "model.compile(optimizer='rmsprop',\n",
    "              loss='categorical_crossentropy',\n",
    "              metrics=['accuracy'])\n",
    "model.fit(train_images, train_labels, epochs=5, batch_size=64)"
   ]
  },
  {
   "cell_type": "code",
   "execution_count": 89,
   "metadata": {},
   "outputs": [
    {
     "name": "stdout",
     "output_type": "stream",
     "text": [
      "The model's accuracy score on training set:\n",
      "\n",
      "0.7617333333333334\n",
      "The model's accuracy score on test set:\n",
      "\n",
      "0.7513\n"
     ]
    }
   ],
   "source": [
    "print(\"The model's accuracy score on training set:\\n\")\n",
    "score_train = model.evaluate(train_images, train_labels, verbose=0)\n",
    "print(score_train[1])\n",
    "print(\"The model's accuracy score on test set:\\n\")\n",
    "test_images = np.array(list(map(lambda x: np.resize(x, (48,48,3)), test_images)))\n",
    "score_test = model.evaluate(test_images, test_labels, verbose=0)\n",
    "print(score_test[1])"
   ]
  },
  {
   "cell_type": "markdown",
   "metadata": {},
   "source": [
    "The transfer learning model here falls short of the previous deep CNN in terms of accuracy, probably because the model is fitted on only five epochs."
   ]
  },
  {
   "cell_type": "markdown",
   "metadata": {},
   "source": [
    "## 3 Text Classification\n",
    "### 3.1 RNN"
   ]
  },
  {
   "cell_type": "code",
   "execution_count": 1,
   "metadata": {
    "colab": {},
    "colab_type": "code",
    "id": "7xd9nB2bgJci"
   },
   "outputs": [
    {
     "name": "stderr",
     "output_type": "stream",
     "text": [
      "/Users/yimengxu/anaconda3/lib/python3.6/site-packages/h5py/__init__.py:34: FutureWarning: Conversion of the second argument of issubdtype from `float` to `np.floating` is deprecated. In future, it will be treated as `np.float64 == np.dtype(float).type`.\n",
      "  from ._conv import register_converters as _register_converters\n",
      "Using TensorFlow backend.\n"
     ]
    }
   ],
   "source": [
    "# --- Libraries ---\n",
    "# - Base libs -\n",
    "import os\n",
    "import numpy as np\n",
    "import pandas as pd\n",
    "\n",
    "# - Data Preprocessing libs -\n",
    "import nltk\n",
    "\n",
    "# - Keras libs -\n",
    "from keras.models import Sequential\n",
    "from keras.layers import Dense, Embedding, SimpleRNN, LSTM, GRU, Conv1D, MaxPooling1D, GlobalMaxPooling1D\n",
    "from keras.utils import plot_model\n",
    "from keras.utils.vis_utils import model_to_dot\n",
    "from keras.callbacks import TensorBoard, ModelCheckpoint\n",
    "\n",
    "# -Plot libs-\n",
    "import matplotlib.pyplot as plt\n",
    "from IPython.display import SVG, display\n",
    "#%matplotlib inline\n",
    "\n",
    "# -- ROC libs --\n",
    "from sklearn.metrics import roc_curve, auc"
   ]
  },
  {
   "cell_type": "code",
   "execution_count": 2,
   "metadata": {
    "collapsed": true
   },
   "outputs": [],
   "source": [
    "# --- Set base path ---\n",
    "cwd = os.getcwd()"
   ]
  },
  {
   "cell_type": "code",
   "execution_count": 3,
   "metadata": {
    "colab": {},
    "colab_type": "code",
    "collapsed": true,
    "id": "P_njjC9uro64"
   },
   "outputs": [],
   "source": [
    "benign = pd.read_csv(\"https://s3.amazonaws.com/anly-590/url-classification/benign-urls.txt\")\n",
    "mal = pd.read_csv(\"https://s3.amazonaws.com/anly-590/url-classification/malicious-urls.txt\", names = [\"# GOOGLE\"])"
   ]
  },
  {
   "cell_type": "code",
   "execution_count": 4,
   "metadata": {
    "collapsed": true
   },
   "outputs": [],
   "source": [
    "# --- Preprocess Data ---\n",
    "# Create a character index for each of the character in each URL\n",
    "# The index of a given character is determined by its frequency \n",
    "# in both the benign and the mal URL dataset\n",
    "charALL = [l.lower() for w in benign['# GOOGLE'] for l in w] + [l.lower() for w in mal['# GOOGLE'] for l in w]\n",
    "lookup = {j[0]:i for i,j in enumerate(nltk.FreqDist(charALL).most_common())}\n",
    "\n",
    "# Convert each of the URL into a vector\n",
    "# The element of the vector is the character index calculated above,\n",
    "# which is the rank of frequency\n",
    "dataBN = []\n",
    "for row in benign['# GOOGLE']:\n",
    "     dataBN.append([lookup[i.lower()] for i in row])\n",
    "dataBN = np.array(dataBN)\n",
    "dataMAL = []\n",
    "for row in mal['# GOOGLE']:\n",
    "    dataMAL.append([lookup[i.lower()] for i in row])\n",
    "dataMAL = np.array(dataMAL)"
   ]
  },
  {
   "cell_type": "code",
   "execution_count": 5,
   "metadata": {
    "colab": {
     "base_uri": "https://localhost:8080/",
     "height": 1969
    },
    "colab_type": "code",
    "collapsed": true,
    "id": "55jltkUyh7vk",
    "outputId": "76a2746f-8c0a-48a0-ea20-0ad260fd4e3c"
   },
   "outputs": [],
   "source": [
    "# Count the total number of unique characters in all URLs\n",
    "charBN = set([l.lower() for w in benign['# GOOGLE'] for l in w])\n",
    "charMAL = set([l.lower() for w in mal['# GOOGLE'] for l in w])\n",
    "num_char = len(charBN.union(charMAL))\n",
    "\n",
    "# Max number of characters\n",
    "max_features = num_char\n",
    "\n",
    "# Max length of URL\n",
    "URL_len = [len(u) for u in benign['# GOOGLE']]\n",
    "URL_len = URL_len + [len(u) for u in mal['# GOOGLE']]\n",
    "#max(URL_len)\n",
    "maxlen = 100\n",
    "\n",
    "# Max number of comments read in at at ime\n",
    "batch_size = 64\n",
    "\n",
    "# Pad the vectors to have the same length\n",
    "from keras.preprocessing import sequence\n",
    "dataBN = sequence.pad_sequences(dataBN, maxlen = maxlen)\n",
    "dataMAL = sequence.pad_sequences(dataMAL, maxlen = maxlen)"
   ]
  },
  {
   "cell_type": "code",
   "execution_count": 6,
   "metadata": {},
   "outputs": [],
   "source": [
    "# Combine the benign URLs and malicious URLs\n",
    "X = np.concatenate((dataBN, dataMAL), 0)\n",
    "#X"
   ]
  },
  {
   "cell_type": "code",
   "execution_count": 7,
   "metadata": {},
   "outputs": [],
   "source": [
    "# Create labels for the URLs\n",
    "yBN = np.full((dataBN.shape[0]), fill_value = 0, dtype = int)\n",
    "yMAL = np.full((dataMAL.shape[0]), fill_value = 1, dtype = int)\n",
    "y = np.concatenate((yBN, yMAL),0)\n",
    "#y"
   ]
  },
  {
   "cell_type": "code",
   "execution_count": 8,
   "metadata": {},
   "outputs": [
    {
     "data": {
      "text/plain": [
       "(67352, 100)"
      ]
     },
     "execution_count": 8,
     "metadata": {},
     "output_type": "execute_result"
    }
   ],
   "source": [
    "X.shape"
   ]
  },
  {
   "cell_type": "code",
   "execution_count": 9,
   "metadata": {},
   "outputs": [
    {
     "data": {
      "text/plain": [
       "(67352,)"
      ]
     },
     "execution_count": 9,
     "metadata": {},
     "output_type": "execute_result"
    }
   ],
   "source": [
    "y.shape"
   ]
  },
  {
   "cell_type": "code",
   "execution_count": 10,
   "metadata": {
    "collapsed": true
   },
   "outputs": [],
   "source": [
    "# --- Separate training and test set --\n",
    "from sklearn.model_selection import train_test_split\n",
    "X_train, X_test, y_train, y_test = train_test_split(X, y, test_size = 0.2, random_state = 32)\n",
    "#X_test, X_val, y_test, y_val = train_test_split(X_test, y_test, test_size = 0.5, random_state = 45)"
   ]
  },
  {
   "cell_type": "code",
   "execution_count": 11,
   "metadata": {},
   "outputs": [
    {
     "data": {
      "image/svg+xml": [
       "<svg height=\"264pt\" viewBox=\"0.00 0.00 173.00 264.00\" width=\"173pt\" xmlns=\"http://www.w3.org/2000/svg\" xmlns:xlink=\"http://www.w3.org/1999/xlink\">\n",
       "<g class=\"graph\" id=\"graph0\" transform=\"scale(1 1) rotate(0) translate(4 260)\">\n",
       "<title>G</title>\n",
       "<polygon fill=\"#ffffff\" points=\"-4,4 -4,-260 169,-260 169,4 -4,4\" stroke=\"transparent\"/>\n",
       "<!-- 112497245040 -->\n",
       "<g class=\"node\" id=\"node1\">\n",
       "<title>112497245040</title>\n",
       "<polygon fill=\"none\" points=\"0,-146.5 0,-182.5 165,-182.5 165,-146.5 0,-146.5\" stroke=\"#000000\"/>\n",
       "<text fill=\"#000000\" font-family=\"Times,serif\" font-size=\"14.00\" text-anchor=\"middle\" x=\"82.5\" y=\"-160.8\">embedding_1: Embedding</text>\n",
       "</g>\n",
       "<!-- 112326015072 -->\n",
       "<g class=\"node\" id=\"node2\">\n",
       "<title>112326015072</title>\n",
       "<polygon fill=\"none\" points=\"33,-73.5 33,-109.5 132,-109.5 132,-73.5 33,-73.5\" stroke=\"#000000\"/>\n",
       "<text fill=\"#000000\" font-family=\"Times,serif\" font-size=\"14.00\" text-anchor=\"middle\" x=\"82.5\" y=\"-87.8\">lstm_1: LSTM</text>\n",
       "</g>\n",
       "<!-- 112497245040&#45;&gt;112326015072 -->\n",
       "<g class=\"edge\" id=\"edge2\">\n",
       "<title>112497245040-&gt;112326015072</title>\n",
       "<path d=\"M82.5,-146.4551C82.5,-138.3828 82.5,-128.6764 82.5,-119.6817\" fill=\"none\" stroke=\"#000000\"/>\n",
       "<polygon fill=\"#000000\" points=\"86.0001,-119.5903 82.5,-109.5904 79.0001,-119.5904 86.0001,-119.5903\" stroke=\"#000000\"/>\n",
       "</g>\n",
       "<!-- 112497246048 -->\n",
       "<g class=\"node\" id=\"node3\">\n",
       "<title>112497246048</title>\n",
       "<polygon fill=\"none\" points=\"30,-.5 30,-36.5 135,-36.5 135,-.5 30,-.5\" stroke=\"#000000\"/>\n",
       "<text fill=\"#000000\" font-family=\"Times,serif\" font-size=\"14.00\" text-anchor=\"middle\" x=\"82.5\" y=\"-14.8\">dense_1: Dense</text>\n",
       "</g>\n",
       "<!-- 112326015072&#45;&gt;112497246048 -->\n",
       "<g class=\"edge\" id=\"edge3\">\n",
       "<title>112326015072-&gt;112497246048</title>\n",
       "<path d=\"M82.5,-73.4551C82.5,-65.3828 82.5,-55.6764 82.5,-46.6817\" fill=\"none\" stroke=\"#000000\"/>\n",
       "<polygon fill=\"#000000\" points=\"86.0001,-46.5903 82.5,-36.5904 79.0001,-46.5904 86.0001,-46.5903\" stroke=\"#000000\"/>\n",
       "</g>\n",
       "<!-- 112497245488 -->\n",
       "<g class=\"node\" id=\"node4\">\n",
       "<title>112497245488</title>\n",
       "<polygon fill=\"none\" points=\"32,-219.5 32,-255.5 133,-255.5 133,-219.5 32,-219.5\" stroke=\"#000000\"/>\n",
       "<text fill=\"#000000\" font-family=\"Times,serif\" font-size=\"14.00\" text-anchor=\"middle\" x=\"82.5\" y=\"-233.8\">112497245488</text>\n",
       "</g>\n",
       "<!-- 112497245488&#45;&gt;112497245040 -->\n",
       "<g class=\"edge\" id=\"edge1\">\n",
       "<title>112497245488-&gt;112497245040</title>\n",
       "<path d=\"M82.5,-219.4551C82.5,-211.3828 82.5,-201.6764 82.5,-192.6817\" fill=\"none\" stroke=\"#000000\"/>\n",
       "<polygon fill=\"#000000\" points=\"86.0001,-192.5903 82.5,-182.5904 79.0001,-192.5904 86.0001,-192.5903\" stroke=\"#000000\"/>\n",
       "</g>\n",
       "</g>\n",
       "</svg>"
      ],
      "text/plain": [
       "<IPython.core.display.SVG object>"
      ]
     },
     "metadata": {},
     "output_type": "display_data"
    }
   ],
   "source": [
    "# --- Training model: Embedding + RNN LSTM---\n",
    "model = Sequential()\n",
    "model.add(Embedding(max_features, 32))\n",
    "#model.add(SimpleRNN(32))\n",
    "#model.add(GRU(32))\n",
    "model.add(LSTM(32))\n",
    "model.add(Dense(1, activation ='sigmoid'))\n",
    "\n",
    "# --- Visualizing the model ---\n",
    "show_model_now = True\n",
    "if (show_model_now):\n",
    "    display(SVG(model_to_dot(model).create(prog='dot', format='svg')))\n",
    "else:\n",
    "    # saves model in directory\n",
    "    plot_model(model,\n",
    "               to_file=os.path.join(cwd,'model.png'))"
   ]
  },
  {
   "cell_type": "code",
   "execution_count": 12,
   "metadata": {},
   "outputs": [
    {
     "name": "stdout",
     "output_type": "stream",
     "text": [
      "Train on 43104 samples, validate on 10777 samples\n",
      "Epoch 1/5\n",
      "43104/43104 [==============================] - 79s 2ms/step - loss: 0.0966 - acc: 0.9789 - val_loss: 0.0636 - val_acc: 0.9821\n",
      "Epoch 2/5\n",
      "43104/43104 [==============================] - 77s 2ms/step - loss: 0.0674 - acc: 0.9806 - val_loss: 0.0561 - val_acc: 0.9823\n",
      "Epoch 3/5\n",
      "43104/43104 [==============================] - 79s 2ms/step - loss: 0.0616 - acc: 0.9808 - val_loss: 0.0513 - val_acc: 0.9830\n",
      "Epoch 4/5\n",
      "43104/43104 [==============================] - 79s 2ms/step - loss: 0.0724 - acc: 0.9806 - val_loss: 0.0544 - val_acc: 0.9827\n",
      "Epoch 5/5\n",
      "43104/43104 [==============================] - 79s 2ms/step - loss: 0.0526 - acc: 0.9812 - val_loss: 0.0469 - val_acc: 0.9832\n"
     ]
    }
   ],
   "source": [
    "# --- Locations to save model ---\n",
    "save_path_model = os.path.join(cwd,'rnn_model.h5')\n",
    "\n",
    "# --- Compile Model ---\n",
    "#Compile model\n",
    "model.compile(optimizer = 'rmsprop',\n",
    "             loss = 'binary_crossentropy',\n",
    "             metrics=['acc'])\n",
    "\n",
    "# If we want to checkpoint our model so we don't rerun it\n",
    "checkpointer = ModelCheckpoint(filepath=save_path_weights, \n",
    "                               verbose=1, save_best_only=True)\n",
    "\n",
    "\n",
    "# Verbose=0 -> to avoid jupyter notebook freezing\n",
    "history = model.fit(X_train, y_train, \n",
    "                    epochs = 5, batch_size = 128, \n",
    "                    validation_split = 0.2,verbose=1)"
   ]
  },
  {
   "cell_type": "code",
   "execution_count": 13,
   "metadata": {
    "collapsed": true
   },
   "outputs": [],
   "source": [
    "# --- Save Model ---\n",
    "# Saves as an HDF5 file\n",
    "model.save(save_path_model)"
   ]
  },
  {
   "cell_type": "code",
   "execution_count": 14,
   "metadata": {
    "collapsed": true
   },
   "outputs": [],
   "source": [
    "# --- Loading the model ---\n",
    "#from keras.models import load_model\n",
    "#model = load_model(save_path_model)"
   ]
  },
  {
   "cell_type": "code",
   "execution_count": 19,
   "metadata": {},
   "outputs": [],
   "source": [
    "# --- Calculate FPR, TPR and AUC for RNN model ---\n",
    "y_pred = model.predict(X_test).ravel()\n",
    "fpr_rnn, tpr_rnn, thresholds_rnn = roc_curve(y_test, y_pred)\n",
    "auc_rnn = auc(fpr_rnn, tpr_rnn)"
   ]
  },
  {
   "cell_type": "markdown",
   "metadata": {
    "collapsed": true
   },
   "source": [
    "### 3.2 CNN"
   ]
  },
  {
   "cell_type": "code",
   "execution_count": 23,
   "metadata": {},
   "outputs": [
    {
     "name": "stdout",
     "output_type": "stream",
     "text": [
      "_________________________________________________________________\n",
      "Layer (type)                 Output Shape              Param #   \n",
      "=================================================================\n",
      "embedding_2 (Embedding)      (None, 100, 128)          5504      \n",
      "_________________________________________________________________\n",
      "conv1d_1 (Conv1D)            (None, 94, 32)            28704     \n",
      "_________________________________________________________________\n",
      "max_pooling1d_1 (MaxPooling1 (None, 18, 32)            0         \n",
      "_________________________________________________________________\n",
      "conv1d_2 (Conv1D)            (None, 12, 32)            7200      \n",
      "_________________________________________________________________\n",
      "global_max_pooling1d_1 (Glob (None, 32)                0         \n",
      "_________________________________________________________________\n",
      "dense_2 (Dense)              (None, 1)                 33        \n",
      "=================================================================\n",
      "Total params: 41,441\n",
      "Trainable params: 41,441\n",
      "Non-trainable params: 0\n",
      "_________________________________________________________________\n"
     ]
    },
    {
     "data": {
      "image/svg+xml": [
       "<svg height=\"483pt\" viewBox=\"0.00 0.00 300.00 483.00\" width=\"300pt\" xmlns=\"http://www.w3.org/2000/svg\" xmlns:xlink=\"http://www.w3.org/1999/xlink\">\n",
       "<g class=\"graph\" id=\"graph0\" transform=\"scale(1 1) rotate(0) translate(4 479)\">\n",
       "<title>G</title>\n",
       "<polygon fill=\"#ffffff\" points=\"-4,4 -4,-479 296,-479 296,4 -4,4\" stroke=\"transparent\"/>\n",
       "<!-- 112492626272 -->\n",
       "<g class=\"node\" id=\"node1\">\n",
       "<title>112492626272</title>\n",
       "<polygon fill=\"none\" points=\"63.5,-365.5 63.5,-401.5 228.5,-401.5 228.5,-365.5 63.5,-365.5\" stroke=\"#000000\"/>\n",
       "<text fill=\"#000000\" font-family=\"Times,serif\" font-size=\"14.00\" text-anchor=\"middle\" x=\"146\" y=\"-379.8\">embedding_2: Embedding</text>\n",
       "</g>\n",
       "<!-- 112490846360 -->\n",
       "<g class=\"node\" id=\"node2\">\n",
       "<title>112490846360</title>\n",
       "<polygon fill=\"none\" points=\"82.5,-292.5 82.5,-328.5 209.5,-328.5 209.5,-292.5 82.5,-292.5\" stroke=\"#000000\"/>\n",
       "<text fill=\"#000000\" font-family=\"Times,serif\" font-size=\"14.00\" text-anchor=\"middle\" x=\"146\" y=\"-306.8\">conv1d_1: Conv1D</text>\n",
       "</g>\n",
       "<!-- 112492626272&#45;&gt;112490846360 -->\n",
       "<g class=\"edge\" id=\"edge2\">\n",
       "<title>112492626272-&gt;112490846360</title>\n",
       "<path d=\"M146,-365.4551C146,-357.3828 146,-347.6764 146,-338.6817\" fill=\"none\" stroke=\"#000000\"/>\n",
       "<polygon fill=\"#000000\" points=\"149.5001,-338.5903 146,-328.5904 142.5001,-338.5904 149.5001,-338.5903\" stroke=\"#000000\"/>\n",
       "</g>\n",
       "<!-- 112490846696 -->\n",
       "<g class=\"node\" id=\"node3\">\n",
       "<title>112490846696</title>\n",
       "<polygon fill=\"none\" points=\"40,-219.5 40,-255.5 252,-255.5 252,-219.5 40,-219.5\" stroke=\"#000000\"/>\n",
       "<text fill=\"#000000\" font-family=\"Times,serif\" font-size=\"14.00\" text-anchor=\"middle\" x=\"146\" y=\"-233.8\">max_pooling1d_1: MaxPooling1D</text>\n",
       "</g>\n",
       "<!-- 112490846360&#45;&gt;112490846696 -->\n",
       "<g class=\"edge\" id=\"edge3\">\n",
       "<title>112490846360-&gt;112490846696</title>\n",
       "<path d=\"M146,-292.4551C146,-284.3828 146,-274.6764 146,-265.6817\" fill=\"none\" stroke=\"#000000\"/>\n",
       "<polygon fill=\"#000000\" points=\"149.5001,-265.5903 146,-255.5904 142.5001,-265.5904 149.5001,-265.5903\" stroke=\"#000000\"/>\n",
       "</g>\n",
       "<!-- 112492628176 -->\n",
       "<g class=\"node\" id=\"node4\">\n",
       "<title>112492628176</title>\n",
       "<polygon fill=\"none\" points=\"82.5,-146.5 82.5,-182.5 209.5,-182.5 209.5,-146.5 82.5,-146.5\" stroke=\"#000000\"/>\n",
       "<text fill=\"#000000\" font-family=\"Times,serif\" font-size=\"14.00\" text-anchor=\"middle\" x=\"146\" y=\"-160.8\">conv1d_2: Conv1D</text>\n",
       "</g>\n",
       "<!-- 112490846696&#45;&gt;112492628176 -->\n",
       "<g class=\"edge\" id=\"edge4\">\n",
       "<title>112490846696-&gt;112492628176</title>\n",
       "<path d=\"M146,-219.4551C146,-211.3828 146,-201.6764 146,-192.6817\" fill=\"none\" stroke=\"#000000\"/>\n",
       "<polygon fill=\"#000000\" points=\"149.5001,-192.5903 146,-182.5904 142.5001,-192.5904 149.5001,-192.5903\" stroke=\"#000000\"/>\n",
       "</g>\n",
       "<!-- 112490846472 -->\n",
       "<g class=\"node\" id=\"node5\">\n",
       "<title>112490846472</title>\n",
       "<polygon fill=\"none\" points=\"0,-73.5 0,-109.5 292,-109.5 292,-73.5 0,-73.5\" stroke=\"#000000\"/>\n",
       "<text fill=\"#000000\" font-family=\"Times,serif\" font-size=\"14.00\" text-anchor=\"middle\" x=\"146\" y=\"-87.8\">global_max_pooling1d_1: GlobalMaxPooling1D</text>\n",
       "</g>\n",
       "<!-- 112492628176&#45;&gt;112490846472 -->\n",
       "<g class=\"edge\" id=\"edge5\">\n",
       "<title>112492628176-&gt;112490846472</title>\n",
       "<path d=\"M146,-146.4551C146,-138.3828 146,-128.6764 146,-119.6817\" fill=\"none\" stroke=\"#000000\"/>\n",
       "<polygon fill=\"#000000\" points=\"149.5001,-119.5903 146,-109.5904 142.5001,-119.5904 149.5001,-119.5903\" stroke=\"#000000\"/>\n",
       "</g>\n",
       "<!-- 112505831320 -->\n",
       "<g class=\"node\" id=\"node6\">\n",
       "<title>112505831320</title>\n",
       "<polygon fill=\"none\" points=\"93.5,-.5 93.5,-36.5 198.5,-36.5 198.5,-.5 93.5,-.5\" stroke=\"#000000\"/>\n",
       "<text fill=\"#000000\" font-family=\"Times,serif\" font-size=\"14.00\" text-anchor=\"middle\" x=\"146\" y=\"-14.8\">dense_2: Dense</text>\n",
       "</g>\n",
       "<!-- 112490846472&#45;&gt;112505831320 -->\n",
       "<g class=\"edge\" id=\"edge6\">\n",
       "<title>112490846472-&gt;112505831320</title>\n",
       "<path d=\"M146,-73.4551C146,-65.3828 146,-55.6764 146,-46.6817\" fill=\"none\" stroke=\"#000000\"/>\n",
       "<polygon fill=\"#000000\" points=\"149.5001,-46.5903 146,-36.5904 142.5001,-46.5904 149.5001,-46.5903\" stroke=\"#000000\"/>\n",
       "</g>\n",
       "<!-- 112492626440 -->\n",
       "<g class=\"node\" id=\"node7\">\n",
       "<title>112492626440</title>\n",
       "<polygon fill=\"none\" points=\"95.5,-438.5 95.5,-474.5 196.5,-474.5 196.5,-438.5 95.5,-438.5\" stroke=\"#000000\"/>\n",
       "<text fill=\"#000000\" font-family=\"Times,serif\" font-size=\"14.00\" text-anchor=\"middle\" x=\"146\" y=\"-452.8\">112492626440</text>\n",
       "</g>\n",
       "<!-- 112492626440&#45;&gt;112492626272 -->\n",
       "<g class=\"edge\" id=\"edge1\">\n",
       "<title>112492626440-&gt;112492626272</title>\n",
       "<path d=\"M146,-438.4551C146,-430.3828 146,-420.6764 146,-411.6817\" fill=\"none\" stroke=\"#000000\"/>\n",
       "<polygon fill=\"#000000\" points=\"149.5001,-411.5903 146,-401.5904 142.5001,-411.5904 149.5001,-411.5903\" stroke=\"#000000\"/>\n",
       "</g>\n",
       "</g>\n",
       "</svg>"
      ],
      "text/plain": [
       "<IPython.core.display.SVG object>"
      ]
     },
     "metadata": {},
     "output_type": "display_data"
    }
   ],
   "source": [
    "model = Sequential()\n",
    "model.add(Embedding(max_features, 128, input_length=maxlen))\n",
    "model.add(Conv1D(32, 7, activation='relu'))\n",
    "model.add(MaxPooling1D(5))\n",
    "model.add(Conv1D(32, 7, activation='relu'))\n",
    "model.add(GlobalMaxPooling1D())\n",
    "model.add(Dense(1))\n",
    "model.summary()\n",
    "# -- Visualize the model --\n",
    "show_model_now = True\n",
    "if (show_model_now):\n",
    "    display(SVG(model_to_dot(model).create(prog='dot', format='svg')))\n",
    "else:\n",
    "    # saves model in directory\n",
    "    plot_model(model,\n",
    "               to_file=os.path.join(cwd,'model.png'))"
   ]
  },
  {
   "cell_type": "code",
   "execution_count": 24,
   "metadata": {},
   "outputs": [
    {
     "name": "stdout",
     "output_type": "stream",
     "text": [
      "Train on 43104 samples, validate on 10777 samples\n",
      "Epoch 1/5\n",
      "43104/43104 [==============================] - 19s 450us/step - loss: 0.0750 - acc: 0.9772 - val_loss: 0.0529 - val_acc: 0.9705\n",
      "Epoch 2/5\n",
      "43104/43104 [==============================] - 17s 404us/step - loss: 0.0572 - acc: 0.9026 - val_loss: 0.0733 - val_acc: 0.4882\n",
      "Epoch 3/5\n",
      "43104/43104 [==============================] - 19s 430us/step - loss: 0.0653 - acc: 0.5037 - val_loss: 0.0526 - val_acc: 0.6304\n",
      "Epoch 4/5\n",
      "43104/43104 [==============================] - 19s 445us/step - loss: 0.0534 - acc: 0.4219 - val_loss: 0.0659 - val_acc: 0.3161\n",
      "Epoch 5/5\n",
      "43104/43104 [==============================] - 19s 442us/step - loss: 0.0491 - acc: 0.3414 - val_loss: 0.0532 - val_acc: 0.3204\n"
     ]
    }
   ],
   "source": [
    "# --- Locations to save model ---\n",
    "save_path_model = os.path.join(cwd,'cnn_model.h5')\n",
    "\n",
    "model.compile(optimizer='rmsprop',\n",
    "              loss='binary_crossentropy',\n",
    "              metrics=['acc'])\n",
    "\n",
    "# If we want to checkpoint our model so we don't rerun it\n",
    "checkpointer = ModelCheckpoint(filepath=save_path_weights, \n",
    "                               verbose=1, save_best_only=True)\n",
    "\n",
    "history = model.fit(X_train, y_train,\n",
    "                    epochs=5,\n",
    "                    batch_size=128,\n",
    "                    validation_split=0.2, verbose = 1)\n",
    "\n",
    "# --- Save Model ---\n",
    "# Saves as an HDF5 file\n",
    "model.save(save_path_model)\n",
    "\n",
    "# --- Loading the model ---\n",
    "#from keras.models import load_model\n",
    "#model = load_model(save_path_model)"
   ]
  },
  {
   "cell_type": "code",
   "execution_count": 25,
   "metadata": {},
   "outputs": [],
   "source": [
    "# --- Calculate FPR, TPR and AUC for 1D CNN model ---\n",
    "y_pred = model.predict(X_test).ravel()\n",
    "fpr_cnn, tpr_cnn, thresholds_cnn = roc_curve(y_test, y_pred)\n",
    "auc_cnn = auc(fpr_cnn, tpr_cnn)"
   ]
  },
  {
   "cell_type": "code",
   "execution_count": 27,
   "metadata": {},
   "outputs": [
    {
     "data": {
      "image/png": "[encoded data removed]",
      "text/plain": [
       "<Figure size 432x288 with 1 Axes>"
      ]
     },
     "metadata": {},
     "output_type": "display_data"
    }
   ],
   "source": [
    "plt.figure(1)\n",
    "plt.plot([0, 1], [0, 1], 'k--')\n",
    "plt.plot(fpr_rnn, tpr_rnn, label='RNN (area = {:.3f})'.format(auc_rnn))\n",
    "plt.plot(fpr_cnn, tpr_cnn, label='1D CNN (area = {:.3f})'.format(auc_cnn))\n",
    "plt.xlabel('False positive rate')\n",
    "plt.ylabel('True positive rate')\n",
    "plt.title('ROC curve')\n",
    "plt.legend(loc='best')\n",
    "plt.show()"
   ]
  },
  {
   "cell_type": "markdown",
   "metadata": {},
   "source": [
    "The RNN and 1D CNN both perform well on the benign vs malicious URL classification. The 1D CNN model has a slightly better AUC than the RNN model and runs faster. RNN beats 1D CNN at first by a slightly higher TPR given a FPR but 1D CNN quickly catch up with RNN and reaches the optimum earlier than RNN."
   ]
  },
  {
   "cell_type": "code",
   "execution_count": null,
   "metadata": {
    "collapsed": true
   },
   "outputs": [],
   "source": []
  }
 ],
 "metadata": {
  "colab": {
   "name": "Yimeng - HW2.ipynb",
   "provenance": [],
   "version": "0.3.2"
  },
  "kernelspec": {
   "display_name": "Python 3",
   "language": "python",
   "name": "python3"
  },
  "language_info": {
   "codemirror_mode": {
    "name": "ipython",
    "version": 3
   },
   "file_extension": ".py",
   "mimetype": "text/x-python",
   "name": "python",
   "nbconvert_exporter": "python",
   "pygments_lexer": "ipython3",
   "version": "3.6.3"
  }
 },
 "nbformat": 4,
 "nbformat_minor": 1
}
